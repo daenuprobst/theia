{
 "cells": [
  {
   "cell_type": "code",
   "execution_count": 2,
   "metadata": {},
   "outputs": [],
   "source": [
    "import ipywidgets as widgets\n",
    "from faerun_notebook import SmilesDrawer\n",
    "from theia.api import predict"
   ]
  },
  {
   "cell_type": "code",
   "execution_count": 3,
   "metadata": {},
   "outputs": [
    {
     "data": {
      "application/vnd.jupyter.widget-view+json": {
       "model_id": "c8212cb12fea4f43a23247a11ea404e8",
       "version_major": 2,
       "version_minor": 0
      },
      "text/plain": [
       "SmilesDrawer(output='img', theme='oldschool', value=[('5.3.3 (99.89 %)', 'O=C([O-])C1=CC2=CC(O)=C(O)C=C2N1>>[H…"
      ]
     },
     "execution_count": 3,
     "metadata": {},
     "output_type": "execute_result"
    }
   ],
   "source": [
    "rxn = \"O=C([O-])C1=CC2=CC(O)=C(O)C=C2N1>>[H][C@@]1(C(=O)[O-])CC2=CC(=O)C(=O)C=C2N1\"\n",
    "\n",
    "pred, expl = predict(\"rheadb.ec123\", rxn, explain=True)\n",
    "\n",
    "vals = [\n",
    "    (f\"{expl[i].label} ({round(100 * expl[i].prediction_probability, 2)} %)\", rxn)\n",
    "    for i in range(len(expl))\n",
    "]\n",
    "\n",
    "expls = [\n",
    "    {\n",
    "        \"reactants\": expl[i].reactant_weights,\n",
    "        \"products\": expl[i].product_weights\n",
    "    } \n",
    "    for i in range(len(expl))\n",
    "]\n",
    "\n",
    "SmilesDrawer(\n",
    "    value=vals,\n",
    "    weights=expls, \n",
    "    output=\"img\", \n",
    "    theme=\"oldschool\"\n",
    ")"
   ]
  }
 ],
 "metadata": {
  "kernelspec": {
   "display_name": "jupyter",
   "language": "python",
   "name": "python3"
  },
  "language_info": {
   "codemirror_mode": {
    "name": "ipython",
    "version": 3
   },
   "file_extension": ".py",
   "mimetype": "text/x-python",
   "name": "python",
   "nbconvert_exporter": "python",
   "pygments_lexer": "ipython3",
   "version": "3.10.9"
  },
  "orig_nbformat": 4,
  "vscode": {
   "interpreter": {
    "hash": "2d98604a3493ca1edc09b2517dfedc369f148e07080437397a90ef2bf52c81de"
   }
  }
 },
 "nbformat": 4,
 "nbformat_minor": 2
}
